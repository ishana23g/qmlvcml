{
 "cells": [
  {
   "cell_type": "code",
   "execution_count": 1,
   "metadata": {},
   "outputs": [],
   "source": [
    "# import pandas as pd\n",
    "# # testing\n",
    "# banana_df = pd.read_csv('data/banana_quality.csv')\n",
    "# print(banana_df.head())\n",
    "# banana_df_y = banana_df['Quality']\n",
    "# banana_df_X = banana_df.drop('Quality', axis=1)\n",
    "import qmlvcml\n",
    "banana_df_X, banana_df_y = qmlvcml.read_banana_data()"
   ]
  },
  {
   "cell_type": "code",
   "execution_count": null,
   "metadata": {},
   "outputs": [],
   "source": [
    "qmlvcml.apply_model(banana_df_X, banana_df_y, steps=1,\n",
    "                     batch_size_percent=.8, isPlot=True, isDebug=False,\n",
    "                     dim_reduce_type='trimap')"
   ]
  },
  {
   "cell_type": "code",
   "execution_count": null,
   "metadata": {},
   "outputs": [],
   "source": [
    "import pandas as pd\n",
    "banana_df = pd.concat([banana_df_X, banana_df_y], axis=1)"
   ]
  },
  {
   "cell_type": "code",
   "execution_count": null,
   "metadata": {},
   "outputs": [],
   "source": [
    "model, confusion = qmlvcml.apply_svm(banana_df, 'Quality', isPlot=True)"
   ]
  }
 ],
 "metadata": {
  "kernelspec": {
   "display_name": "dh_py311",
   "language": "python",
   "name": "python3"
  },
  "language_info": {
   "codemirror_mode": {
    "name": "ipython",
    "version": 3
   },
   "file_extension": ".py",
   "mimetype": "text/x-python",
   "name": "python",
   "nbconvert_exporter": "python",
   "pygments_lexer": "ipython3",
   "version": "3.11.8"
  }
 },
 "nbformat": 4,
 "nbformat_minor": 2
}
