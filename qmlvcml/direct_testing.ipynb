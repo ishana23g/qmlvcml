{
 "cells": [
  {
   "cell_type": "code",
   "execution_count": 1,
   "metadata": {},
   "outputs": [],
   "source": [
    "# import pandas as pd\n",
    "# # testing\n",
    "# banana_df = pd.read_csv('data/banana_quality.csv')\n",
    "# print(banana_df.head())\n",
    "# banana_df_y = banana_df['Quality']\n",
    "# banana_df_X = banana_df.drop('Quality', axis=1)\n",
    "import qmlvcml\n",
    "banana_df_X, banana_df_y = qmlvcml.read_banana_data()"
   ]
  },
  {
   "cell_type": "code",
   "execution_count": null,
   "metadata": {},
   "outputs": [
    {
     "ename": "KeyboardInterrupt",
     "evalue": "",
     "output_type": "error",
     "traceback": [
      "\u001b[0;31m---------------------------------------------------------------------------\u001b[0m",
      "\u001b[0;31mKeyboardInterrupt\u001b[0m                         Traceback (most recent call last)",
      "Cell \u001b[0;32mIn[4], line 1\u001b[0m\n\u001b[0;32m----> 1\u001b[0m qmlvcml\u001b[38;5;241m.\u001b[39mapply_model(banana_df_X, banana_df_y, steps\u001b[38;5;241m=\u001b[39m\u001b[38;5;241m1\u001b[39m,\n\u001b[1;32m      2\u001b[0m                      batch_size_percent\u001b[38;5;241m=\u001b[39m\u001b[38;5;241m.8\u001b[39m, isPlot\u001b[38;5;241m=\u001b[39m\u001b[38;5;28;01mTrue\u001b[39;00m, isDebug\u001b[38;5;241m=\u001b[39m\u001b[38;5;28;01mFalse\u001b[39;00m,\n\u001b[1;32m      3\u001b[0m                      dim_reduce_type\u001b[38;5;241m=\u001b[39m\u001b[38;5;124m'\u001b[39m\u001b[38;5;124mtrimap\u001b[39m\u001b[38;5;124m'\u001b[39m)\n",
      "File \u001b[0;32m~/Documents/PHYS4684/qmlvcml/qmlvcml/vqml.py:214\u001b[0m, in \u001b[0;36mapply_model\u001b[0;34m(X, Y, weights_init, bias_init, steps, batch_size_percent, split_per, isPlot, isDebug, dim_reduce_type, smoothness, seed)\u001b[0m\n\u001b[1;32m    211\u001b[0m     \u001b[38;5;28;01mraise\u001b[39;00m \u001b[38;5;167;01mValueError\u001b[39;00m(\u001b[38;5;124m\"\u001b[39m\u001b[38;5;124msplit_per must be between 0 and 1\u001b[39m\u001b[38;5;124m\"\u001b[39m)\n\u001b[1;32m    213\u001b[0m figure_size \u001b[38;5;241m=\u001b[39m (\u001b[38;5;241m10\u001b[39m, \u001b[38;5;241m10\u001b[39m)\n\u001b[0;32m--> 214\u001b[0m X \u001b[38;5;241m=\u001b[39m transform_X(X, \u001b[38;5;28mtype\u001b[39m\u001b[38;5;241m=\u001b[39mdim_reduce_type)\n\u001b[1;32m    215\u001b[0m X_norm \u001b[38;5;241m=\u001b[39m padding_and_normalization(X, c\u001b[38;5;241m=\u001b[39m\u001b[38;5;241m0.1\u001b[39m)\n\u001b[1;32m    216\u001b[0m \u001b[38;5;66;03m# the angles for state preparation are the features\u001b[39;00m\n",
      "File \u001b[0;32m~/Documents/PHYS4684/qmlvcml/qmlvcml/pre_processing.py:37\u001b[0m, in \u001b[0;36mtransform_X\u001b[0;34m(X, type)\u001b[0m\n\u001b[1;32m     35\u001b[0m types \u001b[38;5;241m=\u001b[39m [\u001b[38;5;124m'\u001b[39m\u001b[38;5;124mtrimap\u001b[39m\u001b[38;5;124m'\u001b[39m, \u001b[38;5;124m'\u001b[39m\u001b[38;5;124mpacmap\u001b[39m\u001b[38;5;124m'\u001b[39m, \u001b[38;5;124m'\u001b[39m\u001b[38;5;124mtsne\u001b[39m\u001b[38;5;124m'\u001b[39m, \u001b[38;5;124m'\u001b[39m\u001b[38;5;124mpca\u001b[39m\u001b[38;5;124m'\u001b[39m, \u001b[38;5;124m'\u001b[39m\u001b[38;5;124mnone\u001b[39m\u001b[38;5;124m'\u001b[39m, \u001b[38;5;28;01mNone\u001b[39;00m]\n\u001b[1;32m     36\u001b[0m \u001b[38;5;28;01mif\u001b[39;00m \u001b[38;5;28mtype\u001b[39m \u001b[38;5;241m==\u001b[39m \u001b[38;5;124m'\u001b[39m\u001b[38;5;124mtrimap\u001b[39m\u001b[38;5;124m'\u001b[39m:\n\u001b[0;32m---> 37\u001b[0m     X \u001b[38;5;241m=\u001b[39m trimap\u001b[38;5;241m.\u001b[39mTRIMAP()\u001b[38;5;241m.\u001b[39mfit_transform(X\u001b[38;5;241m.\u001b[39mto_numpy())\n\u001b[1;32m     38\u001b[0m \u001b[38;5;28;01melif\u001b[39;00m \u001b[38;5;28mtype\u001b[39m \u001b[38;5;241m==\u001b[39m \u001b[38;5;124m'\u001b[39m\u001b[38;5;124mpacmap\u001b[39m\u001b[38;5;124m'\u001b[39m:\n\u001b[1;32m     39\u001b[0m     X \u001b[38;5;241m=\u001b[39m pacmap\u001b[38;5;241m.\u001b[39mPaCMAP(n_components\u001b[38;5;241m=\u001b[39m\u001b[38;5;241m2\u001b[39m, n_neighbors\u001b[38;5;241m=\u001b[39m\u001b[38;5;28;01mNone\u001b[39;00m, MN_ratio\u001b[38;5;241m=\u001b[39m\u001b[38;5;241m0.5\u001b[39m, FP_ratio\u001b[38;5;241m=\u001b[39m\u001b[38;5;241m2.0\u001b[39m)\u001b[38;5;241m.\u001b[39mfit_transform(X\u001b[38;5;241m.\u001b[39mto_numpy())\n",
      "File \u001b[0;32m~/anaconda3/envs/phys4684/lib/python3.11/site-packages/trimap/trimap_.py:821\u001b[0m, in \u001b[0;36mTRIMAP.fit_transform\u001b[0;34m(self, X, init)\u001b[0m\n\u001b[1;32m    810\u001b[0m \u001b[38;5;28;01mdef\u001b[39;00m \u001b[38;5;21mfit_transform\u001b[39m(\u001b[38;5;28mself\u001b[39m, X, init\u001b[38;5;241m=\u001b[39m\u001b[38;5;28;01mNone\u001b[39;00m):\n\u001b[1;32m    811\u001b[0m \u001b[38;5;250m    \u001b[39m\u001b[38;5;124;03m\"\"\"\u001b[39;00m\n\u001b[1;32m    812\u001b[0m \u001b[38;5;124;03m    Runs the TriMap algorithm on the input data X and returns the embedding\u001b[39;00m\n\u001b[1;32m    813\u001b[0m \n\u001b[0;32m   (...)\u001b[0m\n\u001b[1;32m    819\u001b[0m \u001b[38;5;124;03m    init: Initial solution\u001b[39;00m\n\u001b[1;32m    820\u001b[0m \u001b[38;5;124;03m    \"\"\"\u001b[39;00m\n\u001b[0;32m--> 821\u001b[0m     \u001b[38;5;28mself\u001b[39m\u001b[38;5;241m.\u001b[39mfit(X, init)\n\u001b[1;32m    822\u001b[0m     \u001b[38;5;28;01mreturn\u001b[39;00m \u001b[38;5;28mself\u001b[39m\u001b[38;5;241m.\u001b[39membedding_\n",
      "File \u001b[0;32m~/anaconda3/envs/phys4684/lib/python3.11/site-packages/trimap/trimap_.py:788\u001b[0m, in \u001b[0;36mTRIMAP.fit\u001b[0;34m(self, X, init)\u001b[0m\n\u001b[1;32m    777\u001b[0m \u001b[38;5;250m\u001b[39m\u001b[38;5;124;03m\"\"\"Runs TriMap on the input data X.\u001b[39;00m\n\u001b[1;32m    778\u001b[0m \n\u001b[1;32m    779\u001b[0m \u001b[38;5;124;03mInput\u001b[39;00m\n\u001b[0;32m   (...)\u001b[0m\n\u001b[1;32m    784\u001b[0m \u001b[38;5;124;03minit: Initial solution\u001b[39;00m\n\u001b[1;32m    785\u001b[0m \u001b[38;5;124;03m\"\"\"\u001b[39;00m\n\u001b[1;32m    786\u001b[0m X \u001b[38;5;241m=\u001b[39m X\u001b[38;5;241m.\u001b[39mastype(np\u001b[38;5;241m.\u001b[39mfloat32)\n\u001b[0;32m--> 788\u001b[0m \u001b[38;5;28mself\u001b[39m\u001b[38;5;241m.\u001b[39membedding_, \u001b[38;5;28mself\u001b[39m\u001b[38;5;241m.\u001b[39mtriplets, \u001b[38;5;28mself\u001b[39m\u001b[38;5;241m.\u001b[39mweights \u001b[38;5;241m=\u001b[39m trimap(\n\u001b[1;32m    789\u001b[0m     X,\n\u001b[1;32m    790\u001b[0m     \u001b[38;5;28mself\u001b[39m\u001b[38;5;241m.\u001b[39mtriplets,\n\u001b[1;32m    791\u001b[0m     \u001b[38;5;28mself\u001b[39m\u001b[38;5;241m.\u001b[39mweights,\n\u001b[1;32m    792\u001b[0m     \u001b[38;5;28mself\u001b[39m\u001b[38;5;241m.\u001b[39mknn_tuple,\n\u001b[1;32m    793\u001b[0m     \u001b[38;5;28mself\u001b[39m\u001b[38;5;241m.\u001b[39muse_dist_matrix,\n\u001b[1;32m    794\u001b[0m     \u001b[38;5;28mself\u001b[39m\u001b[38;5;241m.\u001b[39mn_dims,\n\u001b[1;32m    795\u001b[0m     \u001b[38;5;28mself\u001b[39m\u001b[38;5;241m.\u001b[39mn_inliers,\n\u001b[1;32m    796\u001b[0m     \u001b[38;5;28mself\u001b[39m\u001b[38;5;241m.\u001b[39mn_outliers,\n\u001b[1;32m    797\u001b[0m     \u001b[38;5;28mself\u001b[39m\u001b[38;5;241m.\u001b[39mn_random,\n\u001b[1;32m    798\u001b[0m     \u001b[38;5;28mself\u001b[39m\u001b[38;5;241m.\u001b[39mdistance,\n\u001b[1;32m    799\u001b[0m     \u001b[38;5;28mself\u001b[39m\u001b[38;5;241m.\u001b[39mlr,\n\u001b[1;32m    800\u001b[0m     \u001b[38;5;28mself\u001b[39m\u001b[38;5;241m.\u001b[39mn_iters,\n\u001b[1;32m    801\u001b[0m     init,\n\u001b[1;32m    802\u001b[0m     \u001b[38;5;28mself\u001b[39m\u001b[38;5;241m.\u001b[39mweight_temp,\n\u001b[1;32m    803\u001b[0m     \u001b[38;5;28mself\u001b[39m\u001b[38;5;241m.\u001b[39mapply_pca,\n\u001b[1;32m    804\u001b[0m     \u001b[38;5;28mself\u001b[39m\u001b[38;5;241m.\u001b[39mopt_method,\n\u001b[1;32m    805\u001b[0m     \u001b[38;5;28mself\u001b[39m\u001b[38;5;241m.\u001b[39mverbose,\n\u001b[1;32m    806\u001b[0m     \u001b[38;5;28mself\u001b[39m\u001b[38;5;241m.\u001b[39mreturn_seq,\n\u001b[1;32m    807\u001b[0m )\n\u001b[1;32m    808\u001b[0m \u001b[38;5;28;01mreturn\u001b[39;00m \u001b[38;5;28mself\u001b[39m\n",
      "File \u001b[0;32m~/anaconda3/envs/phys4684/lib/python3.11/site-packages/trimap/trimap_.py:569\u001b[0m, in \u001b[0;36mtrimap\u001b[0;34m(X, triplets, weights, knn_tuple, use_dist_matrix, n_dims, n_inliers, n_outliers, n_random, distance, lr, n_iters, Yinit, weight_temp, apply_pca, opt_method, verbose, return_seq)\u001b[0m\n\u001b[1;32m    567\u001b[0m         X \u001b[38;5;241m/\u001b[39m\u001b[38;5;241m=\u001b[39m np\u001b[38;5;241m.\u001b[39mmax(X)\n\u001b[1;32m    568\u001b[0m         X \u001b[38;5;241m-\u001b[39m\u001b[38;5;241m=\u001b[39m np\u001b[38;5;241m.\u001b[39mmean(X, axis\u001b[38;5;241m=\u001b[39m\u001b[38;5;241m0\u001b[39m)\n\u001b[0;32m--> 569\u001b[0m triplets, weights \u001b[38;5;241m=\u001b[39m generate_triplets(\n\u001b[1;32m    570\u001b[0m     X, n_inliers, n_outliers, n_random, distance, verbose, weight_temp\n\u001b[1;32m    571\u001b[0m )\n\u001b[1;32m    572\u001b[0m \u001b[38;5;28;01mif\u001b[39;00m verbose:\n\u001b[1;32m    573\u001b[0m     \u001b[38;5;28mprint\u001b[39m(\u001b[38;5;124m\"\u001b[39m\u001b[38;5;124msampled triplets\u001b[39m\u001b[38;5;124m\"\u001b[39m)\n",
      "File \u001b[0;32m~/anaconda3/envs/phys4684/lib/python3.11/site-packages/trimap/trimap_.py:313\u001b[0m, in \u001b[0;36mgenerate_triplets\u001b[0;34m(X, n_inliers, n_outliers, n_random, distance, verbose, weight_temp)\u001b[0m\n\u001b[1;32m    311\u001b[0m knn_distances \u001b[38;5;241m=\u001b[39m np\u001b[38;5;241m.\u001b[39mempty((n, n_extra), dtype\u001b[38;5;241m=\u001b[39mnp\u001b[38;5;241m.\u001b[39mfloat32)\n\u001b[1;32m    312\u001b[0m \u001b[38;5;28;01mfor\u001b[39;00m i \u001b[38;5;129;01min\u001b[39;00m \u001b[38;5;28mrange\u001b[39m(n):\n\u001b[0;32m--> 313\u001b[0m     nbrs[i, :] \u001b[38;5;241m=\u001b[39m tree\u001b[38;5;241m.\u001b[39mget_nns_by_item(i, n_extra)\n\u001b[1;32m    314\u001b[0m     \u001b[38;5;28;01mfor\u001b[39;00m j \u001b[38;5;129;01min\u001b[39;00m \u001b[38;5;28mrange\u001b[39m(n_extra):\n\u001b[1;32m    315\u001b[0m         knn_distances[i, j] \u001b[38;5;241m=\u001b[39m tree\u001b[38;5;241m.\u001b[39mget_distance(i, nbrs[i, j])\n",
      "\u001b[0;31mKeyboardInterrupt\u001b[0m: "
     ]
    }
   ],
   "source": [
    "qmlvcml.apply_model(banana_df_X, banana_df_y, steps=1,\n",
    "                     batch_size_percent=.8, isPlot=True, isDebug=False,\n",
    "                     dim_reduce_type='trimap')"
   ]
  },
  {
   "cell_type": "code",
   "execution_count": null,
   "metadata": {},
   "outputs": [],
   "source": [
    "import pandas as pd\n",
    "banana_df = pd.concat([banana_df_X, banana_df_y], axis=1)"
   ]
  },
  {
   "cell_type": "code",
   "execution_count": null,
   "metadata": {},
   "outputs": [],
   "source": [
    "model, confusion = qmlvcml.apply_svm(banana_df, 'Quality', isPlot=True)"
   ]
  },
  {
   "cell_type": "code",
   "execution_count": null,
   "metadata": {},
   "outputs": [],
   "source": []
  }
 ],
 "metadata": {
  "kernelspec": {
   "display_name": "dh_py311",
   "language": "python",
   "name": "python3"
  },
  "language_info": {
   "codemirror_mode": {
    "name": "ipython",
    "version": 3
   },
   "file_extension": ".py",
   "mimetype": "text/x-python",
   "name": "python",
   "nbconvert_exporter": "python",
   "pygments_lexer": "ipython3",
   "version": "3.11.8"
  }
 },
 "nbformat": 4,
 "nbformat_minor": 2
}
